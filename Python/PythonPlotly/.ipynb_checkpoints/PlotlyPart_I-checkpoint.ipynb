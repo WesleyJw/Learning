{
 "cells": [
  {
   "cell_type": "markdown",
   "id": "f667b7df-7eaf-4a44-bffa-be4a8f895362",
   "metadata": {},
   "source": [
    "# Work with Python and Plotly\n",
    "\n",
    "Para integrar a biblioteca Plotly com o pandas é necessário o uso da biblioteca Cufflinks."
   ]
  },
  {
   "cell_type": "code",
   "execution_count": 4,
   "id": "69adf9d8-a7b5-4ef7-afcf-86913de02e4b",
   "metadata": {},
   "outputs": [],
   "source": [
    "# Install requireds libraries\n",
    "!pip install cufflinks\n",
    "!pip install plotly"
   ]
  },
  {
   "cell_type": "code",
   "execution_count": 19,
   "id": "16c8c020-27f3-4c77-a61e-16d9214f6bd2",
   "metadata": {},
   "outputs": [],
   "source": [
    "import cufflinks as cf\n",
    "from plotly.offline import plot, iplot\n",
    "import pandas as pd\n",
    "import numpy as np\n",
    "\n",
    "import plotly.io as pio\n",
    "pio.renderers.default = 'iframe'"
   ]
  },
  {
   "cell_type": "markdown",
   "id": "7d7fbb3c-e92a-4f49-8d39-e12fccdc6185",
   "metadata": {},
   "source": [
    "## Introduction\n",
    "\n",
    "Primeiros passos, criando um data frame com dados aleatórios."
   ]
  },
  {
   "cell_type": "code",
   "execution_count": 7,
   "id": "603193a1-8351-413d-8e62-beec181e3e87",
   "metadata": {},
   "outputs": [
    {
     "data": {
      "text/html": [
       "<div>\n",
       "<style scoped>\n",
       "    .dataframe tbody tr th:only-of-type {\n",
       "        vertical-align: middle;\n",
       "    }\n",
       "\n",
       "    .dataframe tbody tr th {\n",
       "        vertical-align: top;\n",
       "    }\n",
       "\n",
       "    .dataframe thead th {\n",
       "        text-align: right;\n",
       "    }\n",
       "</style>\n",
       "<table border=\"1\" class=\"dataframe\">\n",
       "  <thead>\n",
       "    <tr style=\"text-align: right;\">\n",
       "      <th></th>\n",
       "      <th>A</th>\n",
       "      <th>B</th>\n",
       "      <th>C</th>\n",
       "      <th>D</th>\n",
       "    </tr>\n",
       "  </thead>\n",
       "  <tbody>\n",
       "    <tr>\n",
       "      <th>0</th>\n",
       "      <td>-0.684211</td>\n",
       "      <td>1.777185</td>\n",
       "      <td>2.807104</td>\n",
       "      <td>-1.674794</td>\n",
       "    </tr>\n",
       "    <tr>\n",
       "      <th>1</th>\n",
       "      <td>-0.265215</td>\n",
       "      <td>0.295407</td>\n",
       "      <td>-0.914118</td>\n",
       "      <td>-0.652900</td>\n",
       "    </tr>\n",
       "    <tr>\n",
       "      <th>2</th>\n",
       "      <td>-0.854036</td>\n",
       "      <td>-0.313776</td>\n",
       "      <td>-1.162961</td>\n",
       "      <td>1.360387</td>\n",
       "    </tr>\n",
       "    <tr>\n",
       "      <th>3</th>\n",
       "      <td>0.027581</td>\n",
       "      <td>-0.593409</td>\n",
       "      <td>0.103508</td>\n",
       "      <td>0.083412</td>\n",
       "    </tr>\n",
       "    <tr>\n",
       "      <th>4</th>\n",
       "      <td>0.232421</td>\n",
       "      <td>0.201986</td>\n",
       "      <td>-0.676800</td>\n",
       "      <td>-0.395665</td>\n",
       "    </tr>\n",
       "  </tbody>\n",
       "</table>\n",
       "</div>"
      ],
      "text/plain": [
       "          A         B         C         D\n",
       "0 -0.684211  1.777185  2.807104 -1.674794\n",
       "1 -0.265215  0.295407 -0.914118 -0.652900\n",
       "2 -0.854036 -0.313776 -1.162961  1.360387\n",
       "3  0.027581 -0.593409  0.103508  0.083412\n",
       "4  0.232421  0.201986 -0.676800 -0.395665"
      ]
     },
     "execution_count": 7,
     "metadata": {},
     "output_type": "execute_result"
    }
   ],
   "source": [
    "data = pd.DataFrame(np.random.randn(100, 4), columns = ['A', \"B\", 'C', 'D'])\n",
    "data.head()"
   ]
  },
  {
   "cell_type": "markdown",
   "id": "d3086793-5091-496d-8664-34302613956e",
   "metadata": {},
   "source": [
    "### Habilitando o modo offline com o cufflinks "
   ]
  },
  {
   "cell_type": "code",
   "execution_count": 10,
   "id": "23960916-cdba-4054-854f-164c822e268b",
   "metadata": {},
   "outputs": [
    {
     "data": {
      "text/html": [
       "        <script type=\"text/javascript\">\n",
       "        window.PlotlyConfig = {MathJaxConfig: 'local'};\n",
       "        if (window.MathJax) {MathJax.Hub.Config({SVG: {font: \"STIX-Web\"}});}\n",
       "        if (typeof require !== 'undefined') {\n",
       "        require.undef(\"plotly\");\n",
       "        requirejs.config({\n",
       "            paths: {\n",
       "                'plotly': ['https://cdn.plot.ly/plotly-2.8.3.min']\n",
       "            }\n",
       "        });\n",
       "        require(['plotly'], function(Plotly) {\n",
       "            window._Plotly = Plotly;\n",
       "        });\n",
       "        }\n",
       "        </script>\n",
       "        "
      ]
     },
     "metadata": {},
     "output_type": "display_data"
    }
   ],
   "source": [
    "cf.go_offline()"
   ]
  },
  {
   "cell_type": "code",
   "execution_count": 20,
   "id": "323478a5-9bbb-42df-b8a7-a51cb43fbf07",
   "metadata": {},
   "outputs": [
    {
     "data": {
      "text/html": [
       "<iframe\n",
       "    scrolling=\"no\"\n",
       "    width=\"100%\"\n",
       "    height=\"545px\"\n",
       "    src=\"iframe_figures/figure_20.html\"\n",
       "    frameborder=\"0\"\n",
       "    allowfullscreen\n",
       "></iframe>\n"
      ]
     },
     "metadata": {},
     "output_type": "display_data"
    }
   ],
   "source": [
    "data.iplot();"
   ]
  },
  {
   "cell_type": "markdown",
   "id": "b3d5870c-d87c-47cf-b0e8-bc9a557d9979",
   "metadata": {},
   "source": [
    "### Scatter plots"
   ]
  },
  {
   "cell_type": "code",
   "execution_count": 21,
   "id": "9e9f3ba2-e604-4d61-9d41-1cbfb6ef82fe",
   "metadata": {},
   "outputs": [
    {
     "data": {
      "text/html": [
       "<iframe\n",
       "    scrolling=\"no\"\n",
       "    width=\"100%\"\n",
       "    height=\"545px\"\n",
       "    src=\"iframe_figures/figure_21.html\"\n",
       "    frameborder=\"0\"\n",
       "    allowfullscreen\n",
       "></iframe>\n"
      ]
     },
     "metadata": {},
     "output_type": "display_data"
    }
   ],
   "source": [
    "data.iplot(kind = 'scatter', x = 'A', y = 'B', mode = 'markers')"
   ]
  },
  {
   "cell_type": "markdown",
   "id": "43219532-f5af-4f4d-ba38-4ae1e72f4fe5",
   "metadata": {},
   "source": [
    "### Bar plots"
   ]
  },
  {
   "cell_type": "code",
   "execution_count": 23,
   "id": "665f0579-8544-4b40-8f8b-22f2d88d53d5",
   "metadata": {},
   "outputs": [
    {
     "data": {
      "text/html": [
       "<iframe\n",
       "    scrolling=\"no\"\n",
       "    width=\"100%\"\n",
       "    height=\"545px\"\n",
       "    src=\"iframe_figures/figure_23.html\"\n",
       "    frameborder=\"0\"\n",
       "    allowfullscreen\n",
       "></iframe>\n"
      ]
     },
     "metadata": {},
     "output_type": "display_data"
    }
   ],
   "source": [
    "data.sum().iplot(kind = 'bar')"
   ]
  },
  {
   "cell_type": "markdown",
   "id": "be194a3c-fdb4-495f-9ed1-d8b04e8168be",
   "metadata": {},
   "source": [
    "### Boxplots"
   ]
  },
  {
   "cell_type": "code",
   "execution_count": 24,
   "id": "7d4fadf6-daf7-454a-8b5a-05dd6cadbe51",
   "metadata": {},
   "outputs": [
    {
     "data": {
      "text/html": [
       "<iframe\n",
       "    scrolling=\"no\"\n",
       "    width=\"100%\"\n",
       "    height=\"545px\"\n",
       "    src=\"iframe_figures/figure_24.html\"\n",
       "    frameborder=\"0\"\n",
       "    allowfullscreen\n",
       "></iframe>\n"
      ]
     },
     "metadata": {},
     "output_type": "display_data"
    }
   ],
   "source": [
    "data.iplot(kind = 'box')"
   ]
  },
  {
   "cell_type": "markdown",
   "id": "2b67881a-b93e-4777-a636-76d665a63f6e",
   "metadata": {},
   "source": [
    "### Histograms"
   ]
  },
  {
   "cell_type": "code",
   "execution_count": 25,
   "id": "881e4f52-fae1-4656-89e2-11c4700c72a0",
   "metadata": {},
   "outputs": [
    {
     "data": {
      "text/html": [
       "<iframe\n",
       "    scrolling=\"no\"\n",
       "    width=\"100%\"\n",
       "    height=\"545px\"\n",
       "    src=\"iframe_figures/figure_25.html\"\n",
       "    frameborder=\"0\"\n",
       "    allowfullscreen\n",
       "></iframe>\n"
      ]
     },
     "metadata": {},
     "output_type": "display_data"
    }
   ],
   "source": [
    "data.A.iplot(kind = 'hist')"
   ]
  },
  {
   "cell_type": "code",
   "execution_count": 26,
   "id": "55100516-3a7b-4b90-8a43-33faa53466e4",
   "metadata": {},
   "outputs": [
    {
     "data": {
      "text/html": [
       "<iframe\n",
       "    scrolling=\"no\"\n",
       "    width=\"100%\"\n",
       "    height=\"545px\"\n",
       "    src=\"iframe_figures/figure_26.html\"\n",
       "    frameborder=\"0\"\n",
       "    allowfullscreen\n",
       "></iframe>\n"
      ]
     },
     "metadata": {},
     "output_type": "display_data"
    }
   ],
   "source": [
    "data.iplot(kind = 'hist')"
   ]
  },
  {
   "cell_type": "markdown",
   "id": "b7a13eda-db61-4a1e-a68e-8a1423641f5d",
   "metadata": {},
   "source": [
    "### Spread plots"
   ]
  },
  {
   "cell_type": "code",
   "execution_count": 28,
   "id": "f1a6b8d9-2fa2-409c-a4df-6d1c459cad48",
   "metadata": {},
   "outputs": [
    {
     "data": {
      "text/html": [
       "<iframe\n",
       "    scrolling=\"no\"\n",
       "    width=\"100%\"\n",
       "    height=\"545px\"\n",
       "    src=\"iframe_figures/figure_28.html\"\n",
       "    frameborder=\"0\"\n",
       "    allowfullscreen\n",
       "></iframe>\n"
      ]
     },
     "metadata": {},
     "output_type": "display_data"
    }
   ],
   "source": [
    "data[['A', 'B', 'C', 'D']].iplot(kind = 'spread')"
   ]
  },
  {
   "cell_type": "code",
   "execution_count": null,
   "id": "02b15d31-18fc-41e2-8a30-dd79e3e2b174",
   "metadata": {},
   "outputs": [],
   "source": []
  }
 ],
 "metadata": {
  "kernelspec": {
   "display_name": "Python 3 (ipykernel)",
   "language": "python",
   "name": "python3"
  },
  "language_info": {
   "codemirror_mode": {
    "name": "ipython",
    "version": 3
   },
   "file_extension": ".py",
   "mimetype": "text/x-python",
   "name": "python",
   "nbconvert_exporter": "python",
   "pygments_lexer": "ipython3",
   "version": "3.9.7"
  }
 },
 "nbformat": 4,
 "nbformat_minor": 5
}
