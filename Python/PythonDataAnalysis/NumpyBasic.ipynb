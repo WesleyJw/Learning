{
 "cells": [
  {
   "cell_type": "markdown",
   "id": "894c1dfb-036f-4cb5-ad3b-add6ade02cdf",
   "metadata": {},
   "source": [
    "# Trabalhando com Numpy"
   ]
  },
  {
   "cell_type": "code",
   "execution_count": 1,
   "id": "b02c0207-3a85-40b8-a31f-61ef2d734e79",
   "metadata": {},
   "outputs": [],
   "source": [
    "#biblioteca\n",
    "import numpy as np"
   ]
  },
  {
   "cell_type": "code",
   "execution_count": 8,
   "id": "24388346-e86b-4ed8-9321-bea9dec08c31",
   "metadata": {},
   "outputs": [
    {
     "data": {
      "text/plain": [
       "array([ 4,  6,  8, 10])"
      ]
     },
     "execution_count": 8,
     "metadata": {},
     "output_type": "execute_result"
    }
   ],
   "source": [
    "#Array de uma dimensao\n",
    "vetor = np.array([4, 6, 8, 10])\n",
    "vetor"
   ]
  },
  {
   "cell_type": "code",
   "execution_count": 9,
   "id": "ab2f6564-c309-49c5-a6b6-97a4bf079cef",
   "metadata": {},
   "outputs": [
    {
     "data": {
      "text/plain": [
       "1"
      ]
     },
     "execution_count": 9,
     "metadata": {},
     "output_type": "execute_result"
    }
   ],
   "source": [
    "vetor.ndim"
   ]
  },
  {
   "cell_type": "code",
   "execution_count": 25,
   "id": "c72db326-9fdd-4fdc-97e7-b43102ee60bc",
   "metadata": {},
   "outputs": [
    {
     "data": {
      "text/plain": [
       "array([[1, 2, 3, 4],\n",
       "       [5, 6, 7, 8]])"
      ]
     },
     "execution_count": 25,
     "metadata": {},
     "output_type": "execute_result"
    }
   ],
   "source": [
    "#Array de duas dimensoes\n",
    "#np.random.random([dimensao=1, linhas, colunas])\n",
    "matriz = np.array([[1, 2, 3, 4], [5, 6, 7, 8]])\n",
    "matriz"
   ]
  },
  {
   "cell_type": "code",
   "execution_count": 11,
   "id": "564cf901-135b-458e-858e-5f272d347f71",
   "metadata": {},
   "outputs": [
    {
     "data": {
      "text/plain": [
       "2"
      ]
     },
     "execution_count": 11,
     "metadata": {},
     "output_type": "execute_result"
    }
   ],
   "source": [
    "matriz.ndim"
   ]
  },
  {
   "cell_type": "code",
   "execution_count": 18,
   "id": "478a1554-e5c5-487d-8dea-fd1316c5ceb9",
   "metadata": {},
   "outputs": [
    {
     "data": {
      "text/plain": [
       "array([[[0.88758703, 0.90623228, 0.94090031],\n",
       "        [0.78342604, 0.80103702, 0.44363949],\n",
       "        [0.30662834, 0.71907096, 0.97265264],\n",
       "        [0.64997148, 0.37564589, 0.63548719],\n",
       "        [0.02810259, 0.55741209, 0.92136425]],\n",
       "\n",
       "       [[0.06106003, 0.20872615, 0.93975481],\n",
       "        [0.40402099, 0.77481885, 0.02159608],\n",
       "        [0.52201225, 0.24429638, 0.07087448],\n",
       "        [0.34947103, 0.96146183, 0.10874761],\n",
       "        [0.72970897, 0.30218562, 0.69666134]]])"
      ]
     },
     "execution_count": 18,
     "metadata": {},
     "output_type": "execute_result"
    }
   ],
   "source": [
    "# Arrays de numeros aleatorios\n",
    "#np.random.random([dimensao, linhas, colunas])\n",
    "np.random.random([2, 5, 3])"
   ]
  },
  {
   "cell_type": "code",
   "execution_count": 19,
   "id": "9447beba-e259-4e66-8675-e18beefd5f97",
   "metadata": {},
   "outputs": [
    {
     "data": {
      "text/plain": [
       "array([10, 12, 14, 16, 18, 20, 22, 24, 26, 28, 30, 32, 34, 36, 38, 40, 42,\n",
       "       44, 46, 48])"
      ]
     },
     "execution_count": 19,
     "metadata": {},
     "output_type": "execute_result"
    }
   ],
   "source": [
    "#criar array de sequencias \n",
    "#start= 10, end = 50, step = 2\n",
    "np.arange(10, 50, 2)"
   ]
  },
  {
   "cell_type": "code",
   "execution_count": 20,
   "id": "fdfee50d-642d-4a01-a5ac-0ff87a813f8a",
   "metadata": {},
   "outputs": [
    {
     "data": {
      "text/plain": [
       "array([ 10.,  20.,  30.,  40.,  50.,  60.,  70.,  80.,  90., 100.])"
      ]
     },
     "execution_count": 20,
     "metadata": {},
     "output_type": "execute_result"
    }
   ],
   "source": [
    "#array linear\n",
    "np.linspace(10, 100, 10)"
   ]
  },
  {
   "cell_type": "code",
   "execution_count": 24,
   "id": "acdf1e6f-123b-426a-865a-4ff17700c8f7",
   "metadata": {},
   "outputs": [
    {
     "data": {
      "text/plain": [
       "array([[[0., 0., 0., 0., 0., 0., 0., 0.],\n",
       "        [0., 0., 0., 0., 0., 0., 0., 0.],\n",
       "        [0., 0., 0., 0., 0., 0., 0., 0.],\n",
       "        [0., 0., 0., 0., 0., 0., 0., 0.]],\n",
       "\n",
       "       [[0., 0., 0., 0., 0., 0., 0., 0.],\n",
       "        [0., 0., 0., 0., 0., 0., 0., 0.],\n",
       "        [0., 0., 0., 0., 0., 0., 0., 0.],\n",
       "        [0., 0., 0., 0., 0., 0., 0., 0.]],\n",
       "\n",
       "       [[0., 0., 0., 0., 0., 0., 0., 0.],\n",
       "        [0., 0., 0., 0., 0., 0., 0., 0.],\n",
       "        [0., 0., 0., 0., 0., 0., 0., 0.],\n",
       "        [0., 0., 0., 0., 0., 0., 0., 0.]]])"
      ]
     },
     "execution_count": 24,
     "metadata": {},
     "output_type": "execute_result"
    }
   ],
   "source": [
    "#Array preenchido com zeros\n",
    "np.zeros([3, 4, 8])"
   ]
  },
  {
   "cell_type": "markdown",
   "id": "1fcb5c7a-36bc-42bc-ba66-728b33094290",
   "metadata": {},
   "source": [
    "## Numpy Arrays vs Listas\n",
    "\n",
    "- Arrays Numpy permitem a realização de operações em arrays inteiros de forma rápida;\n",
    "- Listas não permitem operações todos os elementos da lista;\n",
    "- Para operações em todos os elementos é preciso interar sobre toda a lista;\n",
    "- Listas em Python armazenam diferentes tipos de objetos;\n",
    "- Arrays numpy consideram todos os elementos de tipos distintos como strings."
   ]
  },
  {
   "cell_type": "code",
   "execution_count": 26,
   "id": "90985f00-3c6e-4331-84ac-919cd6057d6c",
   "metadata": {},
   "outputs": [
    {
     "data": {
      "text/plain": [
       "[1, 2, 3, 1, 2, 3]"
      ]
     },
     "execution_count": 26,
     "metadata": {},
     "output_type": "execute_result"
    }
   ],
   "source": [
    "#alguns exemplos\n",
    "lista = [1, 2, 3]\n",
    "lista * 2"
   ]
  },
  {
   "cell_type": "code",
   "execution_count": 27,
   "id": "cfbf2a2b-567c-4501-bf46-a07286bcc5a0",
   "metadata": {},
   "outputs": [
    {
     "data": {
      "text/plain": [
       "array([2, 4, 6])"
      ]
     },
     "execution_count": 27,
     "metadata": {},
     "output_type": "execute_result"
    }
   ],
   "source": [
    "#Transformar a lista em um array numpy\n",
    "lista1 = np.array(lista)\n",
    "lista1 * 2"
   ]
  },
  {
   "cell_type": "code",
   "execution_count": 28,
   "id": "c25b92df-2a70-4d97-9c90-287c2b378543",
   "metadata": {},
   "outputs": [
    {
     "data": {
      "text/plain": [
       "numpy.ndarray"
      ]
     },
     "execution_count": 28,
     "metadata": {},
     "output_type": "execute_result"
    }
   ],
   "source": [
    "type(lista1)"
   ]
  },
  {
   "cell_type": "code",
   "execution_count": 33,
   "id": "f5af9859-a9c9-4a48-adf9-c579b174a3cc",
   "metadata": {},
   "outputs": [
    {
     "data": {
      "text/plain": [
       "array([ 82.5 ,  94.12, 136.84, 105.56])"
      ]
     },
     "execution_count": 33,
     "metadata": {},
     "output_type": "execute_result"
    }
   ],
   "source": [
    "# Calculo do IMC\n",
    "\n",
    "pesos = np.array([66, 80, 130, 95])\n",
    "altura = np.array([1.6, 1.7, 1.9, 1.8])\n",
    "\n",
    "imc = pesos / altura * 2\n",
    "np.round(imc, decimals=2)"
   ]
  },
  {
   "cell_type": "markdown",
   "id": "1156f55c-7c80-49ad-bbac-351b8e982547",
   "metadata": {},
   "source": [
    "## Métodos e Atributos"
   ]
  },
  {
   "cell_type": "code",
   "execution_count": 34,
   "id": "99c96fda-be39-415e-94c6-67adcb088d7f",
   "metadata": {},
   "outputs": [
    {
     "data": {
      "text/plain": [
       "(2, 4)"
      ]
     },
     "execution_count": 34,
     "metadata": {},
     "output_type": "execute_result"
    }
   ],
   "source": [
    "#shape\n",
    "matriz.shape"
   ]
  },
  {
   "cell_type": "code",
   "execution_count": 46,
   "id": "cff773a2-877e-494e-aaf9-e3863c78f6e2",
   "metadata": {},
   "outputs": [
    {
     "data": {
      "text/plain": [
       "2"
      ]
     },
     "execution_count": 46,
     "metadata": {},
     "output_type": "execute_result"
    }
   ],
   "source": [
    "#dimensoes\n",
    "matriz.ndim"
   ]
  },
  {
   "cell_type": "code",
   "execution_count": 48,
   "id": "d4820727-8f14-478e-9112-a944d0348d33",
   "metadata": {},
   "outputs": [
    {
     "data": {
      "text/plain": [
       "8"
      ]
     },
     "execution_count": 48,
     "metadata": {},
     "output_type": "execute_result"
    }
   ],
   "source": [
    "#tamanho\n",
    "matriz.size"
   ]
  },
  {
   "cell_type": "code",
   "execution_count": 53,
   "id": "e9c0f644-44c7-4616-b2fe-8cc8d93f6c42",
   "metadata": {},
   "outputs": [
    {
     "data": {
      "text/plain": [
       "8"
      ]
     },
     "execution_count": 53,
     "metadata": {},
     "output_type": "execute_result"
    }
   ],
   "source": [
    "#quantidade em bytes\n",
    "matriz.itemsize"
   ]
  },
  {
   "cell_type": "code",
   "execution_count": 54,
   "id": "b9ffa42f-6407-43ff-879f-568b53fdef14",
   "metadata": {},
   "outputs": [
    {
     "data": {
      "text/plain": [
       "dtype('int64')"
      ]
     },
     "execution_count": 54,
     "metadata": {},
     "output_type": "execute_result"
    }
   ],
   "source": [
    "#object tipo\n",
    "matriz.dtype"
   ]
  },
  {
   "cell_type": "code",
   "execution_count": 38,
   "id": "fe736df6-1377-46db-861c-40fac3eb96eb",
   "metadata": {},
   "outputs": [
    {
     "data": {
      "text/plain": [
       "8"
      ]
     },
     "execution_count": 38,
     "metadata": {},
     "output_type": "execute_result"
    }
   ],
   "source": [
    "#valor maximo dentro do array\n",
    "matriz.max()"
   ]
  },
  {
   "cell_type": "code",
   "execution_count": 39,
   "id": "212a3b31-ca5b-4ddd-8181-6a6fb159720c",
   "metadata": {},
   "outputs": [
    {
     "data": {
      "text/plain": [
       "1"
      ]
     },
     "execution_count": 39,
     "metadata": {},
     "output_type": "execute_result"
    }
   ],
   "source": [
    "#minimo\n",
    "matriz.min()"
   ]
  },
  {
   "cell_type": "code",
   "execution_count": 43,
   "id": "54700f02-0f51-47bf-a6d7-10c4cb6db55a",
   "metadata": {},
   "outputs": [
    {
     "data": {
      "text/plain": [
       "4.5"
      ]
     },
     "execution_count": 43,
     "metadata": {},
     "output_type": "execute_result"
    }
   ],
   "source": [
    "#mean\n",
    "matriz.mean()"
   ]
  },
  {
   "cell_type": "code",
   "execution_count": 41,
   "id": "7d7d9268-7db1-435c-abb8-6634843680ec",
   "metadata": {},
   "outputs": [
    {
     "data": {
      "text/plain": [
       "2.29128784747792"
      ]
     },
     "execution_count": 41,
     "metadata": {},
     "output_type": "execute_result"
    }
   ],
   "source": [
    "#std\n",
    "matriz.std()"
   ]
  },
  {
   "cell_type": "code",
   "execution_count": 50,
   "id": "7a0f27c7-7f01-4595-8ec9-78db8c154cf4",
   "metadata": {},
   "outputs": [
    {
     "data": {
      "text/plain": [
       "36"
      ]
     },
     "execution_count": 50,
     "metadata": {},
     "output_type": "execute_result"
    }
   ],
   "source": [
    "#soma\n",
    "matriz.sum()"
   ]
  },
  {
   "cell_type": "markdown",
   "id": "4094e2a1-3d66-47a3-846d-46b40a17b9cb",
   "metadata": {},
   "source": [
    "## Transformação de Arrays\n",
    "\n",
    "### Matriz transposta"
   ]
  },
  {
   "cell_type": "code",
   "execution_count": 56,
   "id": "e69b9525-d80a-4203-a039-d3c6b9641a76",
   "metadata": {},
   "outputs": [
    {
     "data": {
      "text/plain": [
       "array([[1, 2, 3, 4],\n",
       "       [5, 6, 7, 8]])"
      ]
     },
     "execution_count": 56,
     "metadata": {},
     "output_type": "execute_result"
    }
   ],
   "source": [
    "#Nossa matriz\n",
    "matriz"
   ]
  },
  {
   "cell_type": "code",
   "execution_count": 57,
   "id": "7cc2c66e-12e5-4a69-bd85-30e3cc0e3052",
   "metadata": {},
   "outputs": [
    {
     "data": {
      "text/plain": [
       "array([[1, 5],\n",
       "       [2, 6],\n",
       "       [3, 7],\n",
       "       [4, 8]])"
      ]
     },
     "execution_count": 57,
     "metadata": {},
     "output_type": "execute_result"
    }
   ],
   "source": [
    "#Obter a transposta de uma matriz\n",
    "matriz.T"
   ]
  },
  {
   "cell_type": "markdown",
   "id": "19564e9c-9f07-4cb1-b6de-a3d29a1c14e7",
   "metadata": {},
   "source": [
    "### Matriz em vetor"
   ]
  },
  {
   "cell_type": "code",
   "execution_count": 60,
   "id": "52587b19-a550-4051-a1cc-148aa1d06c0d",
   "metadata": {},
   "outputs": [
    {
     "data": {
      "text/plain": [
       "array([1, 2, 3, 4, 5, 6, 7, 8])"
      ]
     },
     "execution_count": 60,
     "metadata": {},
     "output_type": "execute_result"
    }
   ],
   "source": [
    "new_m = matriz.reshape(-1)\n",
    "new_m"
   ]
  },
  {
   "cell_type": "code",
   "execution_count": 62,
   "id": "f4f7f98f-4cec-4550-9af5-86530ee0569c",
   "metadata": {},
   "outputs": [
    {
     "data": {
      "text/plain": [
       "1"
      ]
     },
     "execution_count": 62,
     "metadata": {},
     "output_type": "execute_result"
    }
   ],
   "source": [
    "new_m.ndim"
   ]
  },
  {
   "cell_type": "markdown",
   "id": "937c6c42-87e9-4831-ac85-159e94590a19",
   "metadata": {},
   "source": [
    "### Mais sobre reshape"
   ]
  },
  {
   "cell_type": "code",
   "execution_count": 63,
   "id": "df0d191f-1845-47d5-981a-0b2ea3a7472e",
   "metadata": {},
   "outputs": [
    {
     "data": {
      "text/plain": [
       "array([[0.15179503, 0.44526047, 0.20971242, 0.20527421, 0.54388613],\n",
       "       [0.58780588, 0.14761111, 0.39086703, 0.646496  , 0.53999793]])"
      ]
     },
     "execution_count": 63,
     "metadata": {},
     "output_type": "execute_result"
    }
   ],
   "source": [
    "# definondo uma matriz\n",
    "array3 = np.random.random([2, 5])\n",
    "array3"
   ]
  },
  {
   "cell_type": "code",
   "execution_count": 65,
   "id": "a2249654-8430-4de8-88a5-d0efeeda8218",
   "metadata": {},
   "outputs": [
    {
     "data": {
      "text/plain": [
       "array([[0.15179503, 0.44526047],\n",
       "       [0.20971242, 0.20527421],\n",
       "       [0.54388613, 0.58780588],\n",
       "       [0.14761111, 0.39086703],\n",
       "       [0.646496  , 0.53999793]])"
      ]
     },
     "execution_count": 65,
     "metadata": {},
     "output_type": "execute_result"
    }
   ],
   "source": [
    "array3.reshape(5, 2)"
   ]
  },
  {
   "cell_type": "markdown",
   "id": "2141723b-25d3-4f2a-aed2-ffe285a6780e",
   "metadata": {},
   "source": [
    "### Adicionar elementos na matriz"
   ]
  },
  {
   "cell_type": "code",
   "execution_count": 72,
   "id": "5611a1ae-d0cd-4ed6-b859-386700c9079b",
   "metadata": {},
   "outputs": [
    {
     "data": {
      "text/plain": [
       "array([1, 2, 4, 3, 4, 5, 6, 7, 8])"
      ]
     },
     "execution_count": 72,
     "metadata": {},
     "output_type": "execute_result"
    }
   ],
   "source": [
    "#modificar elementos, conforme uma posicao\n",
    "matriz1 = np.insert(matriz, 2, 4)\n",
    "matriz1"
   ]
  },
  {
   "cell_type": "code",
   "execution_count": 77,
   "id": "1ad73421-e473-4f7b-8946-f6412b602494",
   "metadata": {},
   "outputs": [
    {
     "data": {
      "text/plain": [
       "array([[  1,   2, 100,   4],\n",
       "       [  5,   6,   7,   8]])"
      ]
     },
     "execution_count": 77,
     "metadata": {},
     "output_type": "execute_result"
    }
   ],
   "source": [
    "matriz[0][2] = 100\n",
    "matriz"
   ]
  },
  {
   "cell_type": "code",
   "execution_count": 102,
   "id": "ff4d5c34-b13d-4fa7-8e51-42e7f8fd8c03",
   "metadata": {},
   "outputs": [
    {
     "data": {
      "text/plain": [
       "array([4, 8])"
      ]
     },
     "execution_count": 102,
     "metadata": {},
     "output_type": "execute_result"
    }
   ],
   "source": [
    "#acessar colunas i linhas\n",
    "#matriz[dimensao: linha, coluna]\n",
    "matriz[:,3]"
   ]
  },
  {
   "cell_type": "markdown",
   "id": "c589a665-b3bb-4700-8472-cf6b2fc87f28",
   "metadata": {},
   "source": [
    "### Deletar elementos"
   ]
  },
  {
   "cell_type": "code",
   "execution_count": 70,
   "id": "30da2d38-d164-46dc-abcb-543af45d6496",
   "metadata": {},
   "outputs": [
    {
     "data": {
      "text/plain": [
       "array([1, 2, 4, 5, 6, 7, 8])"
      ]
     },
     "execution_count": 70,
     "metadata": {},
     "output_type": "execute_result"
    }
   ],
   "source": [
    "#informe o array em que vc quer deletar, depois a poscao do elemento que se petende deletar\n",
    "np.delete(matriz, [2])"
   ]
  },
  {
   "cell_type": "markdown",
   "id": "76a11656-f08e-4f51-af12-6f436656cf60",
   "metadata": {},
   "source": [
    "### Salvando em um arquivo de texto\n"
   ]
  },
  {
   "cell_type": "code",
   "execution_count": 103,
   "id": "7b387e83-7232-403c-88e9-fa0b5c972f75",
   "metadata": {},
   "outputs": [],
   "source": [
    "np.savetxt(\"matriz_teste.txt\", matriz, delimiter=\",\")"
   ]
  },
  {
   "cell_type": "markdown",
   "id": "591b576e-f21e-47da-93f0-29ca20154fb4",
   "metadata": {},
   "source": [
    "### Carregar arquivos de texto"
   ]
  },
  {
   "cell_type": "code",
   "execution_count": 105,
   "id": "27115baa-fb24-4071-8965-bb7b18acd278",
   "metadata": {},
   "outputs": [
    {
     "data": {
      "text/plain": [
       "array([[  1.,   2., 100.,   4.],\n",
       "       [  5.,   6.,   7.,   8.]])"
      ]
     },
     "execution_count": 105,
     "metadata": {},
     "output_type": "execute_result"
    }
   ],
   "source": [
    "new_matriz = np.loadtxt('matriz_teste.txt', delimiter =\",\")\n",
    "new_matriz"
   ]
  },
  {
   "cell_type": "code",
   "execution_count": null,
   "id": "e78c2539-0746-4f8f-b08b-a91192e1dec2",
   "metadata": {},
   "outputs": [],
   "source": []
  },
  {
   "cell_type": "code",
   "execution_count": null,
   "id": "e2217cc5-c04c-4bf7-a146-94d174090c9c",
   "metadata": {},
   "outputs": [],
   "source": []
  }
 ],
 "metadata": {
  "kernelspec": {
   "display_name": "Python 3 (ipykernel)",
   "language": "python",
   "name": "python3"
  },
  "language_info": {
   "codemirror_mode": {
    "name": "ipython",
    "version": 3
   },
   "file_extension": ".py",
   "mimetype": "text/x-python",
   "name": "python",
   "nbconvert_exporter": "python",
   "pygments_lexer": "ipython3",
   "version": "3.9.7"
  }
 },
 "nbformat": 4,
 "nbformat_minor": 5
}
