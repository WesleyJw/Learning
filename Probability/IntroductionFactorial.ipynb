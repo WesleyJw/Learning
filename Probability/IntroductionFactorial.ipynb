{
 "cells": [
  {
   "attachments": {},
   "cell_type": "markdown",
   "metadata": {},
   "source": [
    "# Um curso de Probabilidade\n",
    "\n",
    "## Análise Fatorial\n",
    "\n",
    "### Introdução\n",
    "\n",
    "Podemos definir **Fatorial** da seguinte forma: Sendo um número inteiro maior que 1, defini-se fatorial de \"n\" como o produto dos \"n\" númros naturais consecutivos de \"n\" a 1. Indica-se \"n!\" (lê-se: \"n\" fatorial ou fatorial de \"n\")."
   ]
  },
  {
   "attachments": {},
   "cell_type": "markdown",
   "metadata": {},
   "source": [
    "Por exemplo:\n",
    "\n",
    "- 4!: 4 x 3 x 2 x 1 = 24\n",
    "- 5!: 5 x 4 x 3 x 2 x 1 = 120\n",
    "- 5!: 5 x 4 x 3! = 20 X 6 = 120\n",
    "- 8!/4!: (8 x 7 x 6 x 5 x 4!)/4! = 8 x 7 x 6 x 5 = 1680\n",
    "- n!: n x (n - 1) x (n - 2) x ... 1\n",
    "- (n - 1)!: (n - 1) x (n - 2) x ... 1\n",
    "- (n + 1)!: (n + 1) x n x (n - 1) x (n - 2) x ... 1\n",
    "\n",
    "OBS: \n",
    "\n",
    "- 0!: 1\n",
    "- 1!: 1\n",
    "\n",
    "#### Como Resolver Fatorial em Python\n",
    "\n",
    "Vamos criar um a função para cálculo do fatorial. Em seguida usaremos uma biblioteca específica."
   ]
  },
  {
   "cell_type": "code",
   "execution_count": 27,
   "metadata": {},
   "outputs": [
    {
     "name": "stdout",
     "output_type": "stream",
     "text": [
      ">>>>> 8! = 40320\n",
      ">>>>> 50! = 30414093201713378043612608166064768844377641568960512000000000000\n",
      ">>>>> 1! = 1\n",
      ">>>>> 0! = 1\n"
     ]
    }
   ],
   "source": [
    "# factorial function\n",
    "\n",
    "def fatorial(n):\n",
    "    \n",
    "    if n == 0:\n",
    "        return 1\n",
    "    else:\n",
    "        for i in range(n-1, 0, -1):\n",
    "            n *= i\n",
    "        return n\n",
    "\n",
    "print(\">>>>> 8! =\", fatorial(8))\n",
    "print(\">>>>> 50! =\", fatorial(50))\n",
    "print(\">>>>> 1! =\", fatorial(1))\n",
    "print(\">>>>> 0! =\", fatorial(0))"
   ]
  },
  {
   "cell_type": "code",
   "execution_count": 28,
   "metadata": {},
   "outputs": [
    {
     "name": "stdout",
     "output_type": "stream",
     "text": [
      ">>>>> 8! = 40320\n",
      ">>>>> 50! = 30414093201713378043612608166064768844377641568960512000000000000\n",
      ">>>>> 1! = 1\n",
      ">>>>> 0! = 1\n"
     ]
    }
   ],
   "source": [
    "import math\n",
    "\n",
    "print(\">>>>> 8! =\", math.factorial(8))\n",
    "print(\">>>>> 50! =\", math.factorial(50))\n",
    "print(\">>>>> 1! =\", math.factorial(1))\n",
    "print(\">>>>> 0! =\", math.factorial(0))"
   ]
  },
  {
   "cell_type": "code",
   "execution_count": 38,
   "metadata": {},
   "outputs": [
    {
     "name": "stdout",
     "output_type": "stream",
     "text": [
      ">>>>> Tempo execução função fatorial: 0.000040\n",
      ">>>>> Tempo execução função math.factorial: 0.000042\n"
     ]
    }
   ],
   "source": [
    "import timeit\n",
    "\n",
    "inicio = timeit.default_timer()\n",
    "fatorial(50)\n",
    "fim = timeit.default_timer()\n",
    "print('>>>>> Tempo execução função fatorial: %f' % (fim - inicio))\n",
    "\n",
    "inicio = timeit.default_timer()\n",
    "math.factorial(50)\n",
    "fim = timeit.default_timer()\n",
    "print('>>>>> Tempo execução função math.factorial: %f' % (fim - inicio))"
   ]
  },
  {
   "attachments": {},
   "cell_type": "markdown",
   "metadata": {},
   "source": [
    "### Simplificações com Fatorial\n",
    "\n",
    "Exemplo de simplificação de fatorial:\n",
    "\n",
    "- Exemplo 1:\n",
    "\n",
    "$$\\frac{10!}{8!} = \\frac{10 \\cdot 9 \\cdot 8!}{8!} = 10 \\cdot 9 = 90$$\n",
    "\n",
    "- Exemplo 2:\n",
    "\n",
    "$$\\frac{7! - 5!}{4!} = \\frac{7 \\cdot 6 \\cdot 5 \\cdot 4! - 5 \\cdot 4!}{4!} = \\frac{4! \\cdot (7 \\cdot 6 \\cdot 5 - 5)}{4!} = 7 \\cdot 6 \\cdot 5 - 5 = 215$$\n",
    "\n",
    "- Exemplo 3:\n",
    "\n",
    "$$\\frac{n!}{(n - 1)!} = \\frac{n \\cdot (n - 1)!}{(n - 1)!} = n$$\n",
    "\n",
    "- Exemplo 4:\n",
    "\n",
    "$$\\frac{n! - (n + 1)!}{n!} = \\frac{n! - (n + 1) \\cdot n!}{n!} =  \\frac{n! \\cdot [1 -(n + 1)]}{n!} = -n$$\n"
   ]
  },
  {
   "attachments": {},
   "cell_type": "markdown",
   "metadata": {},
   "source": [
    "### Equação com Fatorial\n",
    "\n",
    "Como resolver equações com Fatorial:\n",
    "\n",
    "- Exemplo 1:\n",
    "\n",
    "$$\\frac{(n + 2)! \\cdot (n - 1)!}{(n + 1)! \\cdot n!} = \\frac{6}{5}$$\n",
    "$$\\frac{(n + 2) \\cdot (n + 1) \\cdot n \\cdot (n - 1)! \\cdot (n - 1)!}{(n + 1) \\cdot n \\cdot (n - 1)! \\cdot n \\cdot (n - 1)!} = \\frac{6}{5}$$\n",
    "$$\\frac{n + 2}{n} = \\frac{6}{5}$$\n",
    "$$6n = 5n + 10$$\n",
    "$$6n - 5n = 10$$\n",
    "$$n = 10$$\n",
    "\n",
    "- Exemplo 2:\n",
    "\n",
    "$$(n - 2)! = 2 \\cdot (n - 4)!$$\n",
    "$$ (n - 2) \\cdot (n - 3) \\cdot (n - 4)! =  2 \\cdot (n - 4)!$$\n",
    "$$ \\frac{(n - 2) \\cdot (n - 3) \\cdot (n - 4)!}{(n - 4)!} =  2$$\n",
    "$$ (n - 2) \\cdot (n - 3) =  2$$\n",
    "$$ n^2 - 5n + 4 =  0$$\n",
    "$$ \\Delta = b^2 - 4 \\cdot a \\cdot c$$\n",
    "$$\\Delta = -5^2 - 4 \\cdot 1 \\cdot 4$$\n",
    "$$\\Delta = 25 - 16 = 9$$\n",
    "$$ n = \\frac{-b +- \\sqrt{\\Delta}}{2\\cdot a} $$\n",
    "$$ n' = \\frac{- (-5) + \\sqrt{9}}{2\\cdot 1} = \\frac{5 + 3}{2} = 4 $$\n",
    "$$ n'' = \\frac{5 - 3}{2} = 1$$\n",
    "\n",
    "Temos duas soluções nos reais, 4 e 1, porém como temos (n - 2)! e ao subtituímos o valor de n por 1 temos o caso em que (1 - 2)! é igual (-1)! e por definição não temos o fatorial de números negativos, logo a solução verdadeira é n = 4.\n",
    "\n",
    "- Exemplo 3:\n",
    "\n",
    "$$(n - 9)! = 1$$\n",
    "\n",
    "Por definição $0! = 1$ e $1! = 1$, logo, n pode assumir dois possíveis valores:\n",
    "\n",
    "$$n = 9: (9 - 9)! = 1 \\therefore 0! = 1$$\n",
    "$$n = 10: (10 - 9)! = 1 \\therefore 1! = 1$$\n"
   ]
  }
 ],
 "metadata": {
  "kernelspec": {
   "display_name": "amb",
   "language": "python",
   "name": "python3"
  },
  "language_info": {
   "codemirror_mode": {
    "name": "ipython",
    "version": 3
   },
   "file_extension": ".py",
   "mimetype": "text/x-python",
   "name": "python",
   "nbconvert_exporter": "python",
   "pygments_lexer": "ipython3",
   "version": "3.10.11"
  },
  "orig_nbformat": 4
 },
 "nbformat": 4,
 "nbformat_minor": 2
}
