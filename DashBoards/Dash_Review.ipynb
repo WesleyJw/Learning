{
 "cells": [
  {
   "cell_type": "markdown",
   "metadata": {},
   "source": [
    "# Uma Revisão sobre Dasboard com o Framework Dash\n",
    "\n",
    "Um **dashboard** é uma simplicação em modo de painel visual de informações, métricas e indicadores de uma empresa, projeto, time, entre outros. Desta forma, um **dashboard** nada mais é, que uma forma visual, geralmente gráficos, que sintetizam as principais e mais relevantes informações. Esta ferramenta pode ser personalizada de diferentes formas, mas sempre se atente que o principal objetivo do **dashboard** é facilitar a interpretação da informação contida nele. \n",
    "\n",
    "Estas são algumas das ferramentas especializadas no desenvolvimento desse tipo de visualização:\n",
    "\n",
    "- PowerBI;\n",
    "- Shiny;\n",
    "- Streamlit;\n",
    "- Flask;\n",
    "- Chart.js;\n",
    "- Dash.\n",
    "\n",
    "As mesmas regras para criação de gráficos de visualização de dados são aplicadas no desenvolvimento de dashboards. O desenvolvedor deve sempre se atentar para gráficos com boa visualização, sem agregar excesso de subdivisões (muitos fatores), gráficos de pizza devem ser evitados quando exister um número muito grande de classes ou quando as proporções entres as classes não aresentarem muita diferença. Uma atenção especial deve ser dada ao cores e a distribuição dos gráficos. Os gráficos mais importantes devem vim no topo do dash.\n",
    "\n",
    "Nesta revisão vamos utilizar o framework **Dash** juntamente com a linguagem **Python**, mas este framework também possui suporte as linguagem R e Julia. Este framework foi desenvolvido em python com o framework *falsk*, sendo assim, ele abstrai a necessidade de entendimento em *html, css* e  *javascript*. Ele ainda utiliza *Plotly* como a principal biblioteca para a criação de gráficos interativos. "
   ]
  },
  {
   "cell_type": "markdown",
   "metadata": {},
   "source": [
    "## Como iniciar um Projeto com Dash\n",
    "\n",
    "Para instalar esse framework vamos utilizar a biblioteca pip.\n",
    "\n",
    "```console\n",
    "pip install dash\n",
    "```\n",
    "\n",
    "O código listado abaixo, exemplifica como iniciar um projeto com dash."
   ]
  },
  {
   "cell_type": "code",
   "execution_count": null,
   "metadata": {},
   "outputs": [],
   "source": [
    "# Import libs\n",
    "from dash import Dash\n",
    "from dash_html_components import H1, H2\n",
    "\n",
    "# Instanciar o aplicativo dash\n",
    "app = Dash(__name__)\n",
    "\n",
    "# Colocando um componente do tipo layout\n",
    "# Este componente sempre deve existir\n",
    "app.layout = H1(\"Hello World Dash\")\n",
    "\n",
    "# Executando o aplicativo\n",
    "app.run_server()"
   ]
  },
  {
   "cell_type": "markdown",
   "metadata": {},
   "source": [
    "### Dash HTML Componentes (DHC) ou layouts\n",
    "\n",
    "O Dash tem como principal vantagem não haver necessidade de se trabalhar com arquivos do tipo html. Tudo que é desenvolvido como componente Dash é criado em um arquivo python, no entanto o framework possui a biblioteca de componentes html, com todos os tipos de tags html disponíveis para uso. Por exemplo: \n",
    "\n",
    "- A;\n",
    "- Div;\n",
    "- p;\n",
    "- H1, H2, H3, H4, H5;\n",
    "- Nav;\n",
    "- Meta, entre outras.\n",
    "\n",
    "\n",
    "#### A estruturação de componentes\n",
    "\n",
    "Quando criamos um aplicativo é possível adicionar apenas uma vez o componente *layout*. Sendo assim, quando precisamos criar vários componentes, adicionamantos um componente do tipo *Div* (este será usado como um container), que armazenará os demais componentes. Veja no código abaixo."
   ]
  },
  {
   "cell_type": "code",
   "execution_count": null,
   "metadata": {},
   "outputs": [],
   "source": [
    "from dash_html_components import H1, Div, P, H2\n",
    "\n",
    "app.layout = Div(\n",
    "    children=[\n",
    "        H1(\"Hello world Dash\"),\n",
    "        P(\"Layout para composição de gráfico\"),\n",
    "        H2(\"Gráfico 1\"),\n",
    "        P(\"Coloque o gráfico aqui\"),\n",
    "        H2(\"Gráfico 2\"),\n",
    "        P(\"Coloque o gráfico aqui\")\n",
    "    ]\n",
    ")"
   ]
  },
  {
   "cell_type": "markdown",
   "metadata": {},
   "source": [
    "### Melhorando a aparência do dash\n",
    "\n",
    "Para trabalharmos com efeitos visuais do tipo, cor da fonte, tamanho, tipo de fonte, cor de fundo, entre outras características, podemos utilizar a linguagem de estilização **css**. Existem duas formas de trabalhar-mos com **css** em um aplicativo dash. \n",
    "\n",
    "A primeira forma é para estilizações mais pontuais, em que se tem a necessidade de modificar poucos efeitos. Criando links de estilo externos: \n",
    "\n",
    " "
   ]
  },
  {
   "cell_type": "code",
   "execution_count": null,
   "metadata": {},
   "outputs": [],
   "source": [
    "# Considere a seguinte aplicacao\n",
    "from dash import Dash\n",
    "from dash_html_components import H1, H2\n",
    "\n",
    "# Criando um alista de extilos externos\n",
    "external_stylesheets = [\n",
    "    'https://unpkg.com/terminal.css@0.7.2/dist/terminal.min.css'\n",
    "]\n",
    "app = Dash(__name__, external_stylesheets=external_stylesheets)\n",
    "\n",
    "app.layout = H1(\"Hello World Dash\")\n",
    "\n",
    "# Executando o aplicativo\n",
    "app.run_server(debug=True)"
   ]
  },
  {
   "cell_type": "markdown",
   "metadata": {},
   "source": [
    "Na segunda segunda opção temos a possibilidade de criar um arquivo **style.css** e chamar o mesmo na nossa aplicação. Crie um diretório e um arquivo style com a seguinte aparência: */assets/style.css*. Desta forma, o dash já vai fazer o import do estilo para o seu layout. Ainda é possível adiconar temas pré carregados.\n",
    "\n",
    "Para tal instale a lib: \n",
    "\n",
    "```console\n",
    "pip install dash_bootstrap_components \n",
    "```"
   ]
  },
  {
   "cell_type": "code",
   "execution_count": null,
   "metadata": {},
   "outputs": [],
   "source": [
    "# Considere a seguinte aplicacao\n",
    "from dash import Dash\n",
    "from dash_html_components import H1, H2\n",
    "import dash_bootstrap_components as dbc\n",
    "\n",
    "# Criando um alista de extilos externos\n",
    "external_stylesheets = [\n",
    "    'https://unpkg.com/terminal.css@0.7.2/dist/terminal.min.css'\n",
    "]\n",
    "app = Dash(__name__, external_stylesheets=[dbc.themes.CYBORG])\n",
    "\n",
    "app.layout = H1(\"Hello World Dash\")\n",
    "\n",
    "# Executando o aplicativo\n",
    "app.run_server(debug=True)"
   ]
  }
 ],
 "metadata": {
  "interpreter": {
   "hash": "78ac38304be536827a38b96fc065f2ca89001f8bb1a52972a033ad337667e6ea"
  },
  "kernelspec": {
   "display_name": "Python 3.8.10 ('dashboard')",
   "language": "python",
   "name": "python3"
  },
  "language_info": {
   "name": "python",
   "version": "3.8.10"
  },
  "orig_nbformat": 4
 },
 "nbformat": 4,
 "nbformat_minor": 2
}
