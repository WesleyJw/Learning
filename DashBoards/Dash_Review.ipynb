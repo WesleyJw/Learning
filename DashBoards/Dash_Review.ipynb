{
 "cells": [
  {
   "cell_type": "markdown",
   "metadata": {},
   "source": [
    "# Uma Revisão sobre Dasboard com o Framework Dash\n",
    "\n",
    "Um **dashboard** é uma simplicação em modo de painel visual de informações, métricas e indicadores de uma empresa, projeto, time, entre outros. Desta forma, um **dashboard** nada mais é, que uma forma visual, geralmente gráficos, que sintetizam as principais e mais relevantes informações. Esta ferramenta pode ser personalizada de diferentes formas, mas sempre se atente que o principal objetivo do **dashboard** é facilitar a interpretação da informação contida nele. \n",
    "\n",
    "Estas são algumas das ferramentas especializadas no desenvolvimento desse tipo de visualização:\n",
    "\n",
    "- PowerBI;\n",
    "- Shiny;\n",
    "- Streamlit;\n",
    "- Flask;\n",
    "- Chart.js;\n",
    "- Dash.\n",
    "\n",
    "As mesmas regras para criação de gráficos de visualização de dados são aplicadas no desenvolvimento de dashboards. O desenvolvedor deve sempre se atentar para gráficos com boa visualização, sem agregar excesso de subdivisões (muitos fatores), gráficos de pizza devem ser evitados quando exister um número muito grande de classes ou quando as proporções entres as classes não aresentarem muita diferença. Uma atenção especial deve ser dada ao cores e a distribuição dos gráficos. Os gráficos mais importantes devem vim no topo do dash.\n",
    "\n",
    "Nesta revisão vamos utilizar o framework **Dash** juntamente com a linguagem **Python**, mas este framework também possui suporte as linguagem R e Julia. Este framework foi desenvolvido em python com o framework *falsk*, sendo assim, ele abstrai a necessidade de entendimento em *html, css* e  *javascript*. Ele ainda utiliza *Plotly* como a principal biblioteca para a criação de gráficos interativos. "
   ]
  },
  {
   "cell_type": "markdown",
   "metadata": {},
   "source": [
    "## Como iniciar um Projeto com Dash\n",
    "\n",
    "Para instalar esse framework vamos utilizar a biblioteca pip.\n",
    "\n",
    "```console\n",
    "pip install dash\n",
    "```\n",
    "\n",
    "O código listado abaixo, exemplifica como iniciar um projeto com dash."
   ]
  },
  {
   "cell_type": "code",
   "execution_count": null,
   "metadata": {},
   "outputs": [],
   "source": [
    "# Import libs\n",
    "from dash import Dash\n",
    "from dash_html_components import H1, H2\n",
    "\n",
    "# Instanciar o aplicativo dash\n",
    "app = Dash(__name__)\n",
    "\n",
    "# Colocando um titulo\n",
    "app.layout = H1(\"Hello World Dash\")\n",
    "\n",
    "# Executando o aplicativo\n",
    "app.run_server()"
   ]
  },
  {
   "cell_type": "code",
   "execution_count": null,
   "metadata": {},
   "outputs": [],
   "source": []
  }
 ],
 "metadata": {
  "interpreter": {
   "hash": "78ac38304be536827a38b96fc065f2ca89001f8bb1a52972a033ad337667e6ea"
  },
  "kernelspec": {
   "display_name": "Python 3.8.10 ('dashboard')",
   "language": "python",
   "name": "python3"
  },
  "language_info": {
   "name": "python",
   "version": "3.8.10"
  },
  "orig_nbformat": 4
 },
 "nbformat": 4,
 "nbformat_minor": 2
}
