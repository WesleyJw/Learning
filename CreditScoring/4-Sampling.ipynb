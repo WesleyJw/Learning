{
 "cells": [
  {
   "cell_type": "markdown",
   "metadata": {},
   "source": [
    "# **CAPÍTULO 4: Amostragem e Coleta de Dados**\n",
    "\n",
    "## **4.1 Amostragem**\n",
    "\n",
    "- **Definição:**\n",
    "\n",
    "### 4.1.1 Unidade Amostral\n",
    "\n",
    "### 4.1.2 Mercado-alvo"
   ]
  },
  {
   "cell_type": "markdown",
   "metadata": {},
   "source": [
    "## **4.2 Tipos de Amostragem**"
   ]
  },
  {
   "cell_type": "code",
   "execution_count": null,
   "metadata": {},
   "outputs": [],
   "source": []
  }
 ],
 "metadata": {
  "kernelspec": {
   "display_name": "data-study-1nNzbfXJ-py3.10",
   "language": "python",
   "name": "python3"
  },
  "language_info": {
   "name": "python",
   "version": "3.10.12"
  }
 },
 "nbformat": 4,
 "nbformat_minor": 2
}
