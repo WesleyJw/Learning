{
 "cells": [
  {
   "cell_type": "markdown",
   "id": "e7d34a04-d480-4ff6-ad0a-a416f009fe0e",
   "metadata": {},
   "source": [
    "# Work with R in Docker Container\n",
    "\n",
    "## Image: jupyter/datascience-notebook:r-4.1.1\n",
    "\n",
    "This is an image based on anaconda framework. In this image we have three languages to work: Pyhton,\n",
    "R and Julia, all accessible by notebook jupyter and console. We have create a Data Science Environment \n",
    "that include: a container with jupyter notebook (we have work now), a container with rstudio server, \n",
    "two containers to postgres dataset and your administrate pgAdmin4, and another two containers to mongo \n",
    "dataset and your administrate mongo-express. "
   ]
  },
  {
   "cell_type": "markdown",
   "id": "6f1d527b-7edb-424c-89b5-3d9d0b8bab36",
   "metadata": {},
   "source": [
    "##  Let's to connect R with postgres dataset"
   ]
  },
  {
   "cell_type": "code",
   "execution_count": 26,
   "id": "a56fb9f8-78d4-49df-8e6e-8c8347fcd1c9",
   "metadata": {},
   "outputs": [],
   "source": [
    "install.packages(\"RPostgres\")"
   ]
  },
  {
   "cell_type": "code",
   "execution_count": 28,
   "id": "05ffe553-3dbf-47bb-a39d-0a36c4559dbe",
   "metadata": {},
   "outputs": [
    {
     "name": "stderr",
     "output_type": "stream",
     "text": [
      "── \u001b[1mAttaching packages\u001b[22m ─────────────────────────────────────── tidyverse 1.3.1 ──\n",
      "\n",
      "\u001b[32m✔\u001b[39m \u001b[34mggplot2\u001b[39m 3.3.5     \u001b[32m✔\u001b[39m \u001b[34mpurrr  \u001b[39m 0.3.4\n",
      "\u001b[32m✔\u001b[39m \u001b[34mtibble \u001b[39m 3.1.6     \u001b[32m✔\u001b[39m \u001b[34mdplyr  \u001b[39m 1.0.7\n",
      "\u001b[32m✔\u001b[39m \u001b[34mtidyr  \u001b[39m 1.1.4     \u001b[32m✔\u001b[39m \u001b[34mstringr\u001b[39m 1.4.0\n",
      "\u001b[32m✔\u001b[39m \u001b[34mreadr  \u001b[39m 2.1.1     \u001b[32m✔\u001b[39m \u001b[34mforcats\u001b[39m 0.5.1\n",
      "\n",
      "── \u001b[1mConflicts\u001b[22m ────────────────────────────────────────── tidyverse_conflicts() ──\n",
      "\u001b[31m✖\u001b[39m \u001b[34mdplyr\u001b[39m::\u001b[32mfilter()\u001b[39m masks \u001b[34mstats\u001b[39m::filter()\n",
      "\u001b[31m✖\u001b[39m \u001b[34mdplyr\u001b[39m::\u001b[32mlag()\u001b[39m    masks \u001b[34mstats\u001b[39m::lag()\n",
      "\n"
     ]
    }
   ],
   "source": [
    "#packages\n",
    "library(DBI)\n",
    "library(RPostgreSQL)\n",
    "library(RPostgres)\n",
    "library(tidyverse)"
   ]
  },
  {
   "cell_type": "code",
   "execution_count": 8,
   "id": "74b74146-d8c9-4691-b644-a08a0e463448",
   "metadata": {},
   "outputs": [],
   "source": [
    "pgdrv <- dbDriver(\"PostgreSQL\")"
   ]
  },
  {
   "cell_type": "code",
   "execution_count": 34,
   "id": "650b138c-5cfd-4e2d-9fd7-b6f735058086",
   "metadata": {},
   "outputs": [],
   "source": [
    "db <- dbConnect(RPostgres::Postgres(),\n",
    "                dbname = \"dvdrentail\",\n",
    "                host = \"pg_container\",\n",
    "                port = '5432',\n",
    "                user = \"postgres\",\n",
    "                password = \"admin\")"
   ]
  },
  {
   "cell_type": "code",
   "execution_count": 35,
   "id": "2a9696d8-dd92-48f4-b3d8-9c5a3a1a4776",
   "metadata": {},
   "outputs": [
    {
     "data": {
      "text/html": [
       "<style>\n",
       ".list-inline {list-style: none; margin:0; padding: 0}\n",
       ".list-inline>li {display: inline-block}\n",
       ".list-inline>li:not(:last-child)::after {content: \"\\00b7\"; padding: 0 .5ex}\n",
       "</style>\n",
       "<ol class=list-inline><li>'actor'</li><li>'actor_info'</li><li>'customer_list'</li><li>'film_list'</li><li>'nicer_but_slower_film_list'</li><li>'sales_by_film_category'</li><li>'store'</li><li>'sales_by_store'</li><li>'staff_list'</li><li>'address'</li><li>'category'</li><li>'city'</li><li>'country'</li><li>'customer'</li><li>'film_actor'</li><li>'film_category'</li><li>'inventory'</li><li>'language'</li><li>'rental'</li><li>'staff'</li><li>'payment'</li><li>'film'</li></ol>\n"
      ],
      "text/latex": [
       "\\begin{enumerate*}\n",
       "\\item 'actor'\n",
       "\\item 'actor\\_info'\n",
       "\\item 'customer\\_list'\n",
       "\\item 'film\\_list'\n",
       "\\item 'nicer\\_but\\_slower\\_film\\_list'\n",
       "\\item 'sales\\_by\\_film\\_category'\n",
       "\\item 'store'\n",
       "\\item 'sales\\_by\\_store'\n",
       "\\item 'staff\\_list'\n",
       "\\item 'address'\n",
       "\\item 'category'\n",
       "\\item 'city'\n",
       "\\item 'country'\n",
       "\\item 'customer'\n",
       "\\item 'film\\_actor'\n",
       "\\item 'film\\_category'\n",
       "\\item 'inventory'\n",
       "\\item 'language'\n",
       "\\item 'rental'\n",
       "\\item 'staff'\n",
       "\\item 'payment'\n",
       "\\item 'film'\n",
       "\\end{enumerate*}\n"
      ],
      "text/markdown": [
       "1. 'actor'\n",
       "2. 'actor_info'\n",
       "3. 'customer_list'\n",
       "4. 'film_list'\n",
       "5. 'nicer_but_slower_film_list'\n",
       "6. 'sales_by_film_category'\n",
       "7. 'store'\n",
       "8. 'sales_by_store'\n",
       "9. 'staff_list'\n",
       "10. 'address'\n",
       "11. 'category'\n",
       "12. 'city'\n",
       "13. 'country'\n",
       "14. 'customer'\n",
       "15. 'film_actor'\n",
       "16. 'film_category'\n",
       "17. 'inventory'\n",
       "18. 'language'\n",
       "19. 'rental'\n",
       "20. 'staff'\n",
       "21. 'payment'\n",
       "22. 'film'\n",
       "\n",
       "\n"
      ],
      "text/plain": [
       " [1] \"actor\"                      \"actor_info\"                \n",
       " [3] \"customer_list\"              \"film_list\"                 \n",
       " [5] \"nicer_but_slower_film_list\" \"sales_by_film_category\"    \n",
       " [7] \"store\"                      \"sales_by_store\"            \n",
       " [9] \"staff_list\"                 \"address\"                   \n",
       "[11] \"category\"                   \"city\"                      \n",
       "[13] \"country\"                    \"customer\"                  \n",
       "[15] \"film_actor\"                 \"film_category\"             \n",
       "[17] \"inventory\"                  \"language\"                  \n",
       "[19] \"rental\"                     \"staff\"                     \n",
       "[21] \"payment\"                    \"film\"                      "
      ]
     },
     "metadata": {},
     "output_type": "display_data"
    }
   ],
   "source": [
    "db %>% dbListTables()"
   ]
  },
  {
   "cell_type": "code",
   "execution_count": null,
   "id": "46bdc79d-cf37-4c54-abe5-168aaab1bdfe",
   "metadata": {},
   "outputs": [],
   "source": []
  }
 ],
 "metadata": {
  "kernelspec": {
   "display_name": "R",
   "language": "R",
   "name": "ir"
  },
  "language_info": {
   "codemirror_mode": "r",
   "file_extension": ".r",
   "mimetype": "text/x-r-source",
   "name": "R",
   "pygments_lexer": "r",
   "version": "4.1.1"
  }
 },
 "nbformat": 4,
 "nbformat_minor": 5
}
