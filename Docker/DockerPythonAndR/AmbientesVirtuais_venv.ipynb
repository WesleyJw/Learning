{
 "cells": [
  {
   "cell_type": "markdown",
   "id": "617dcae1",
   "metadata": {},
   "source": [
    "# Trabalhando com ambientes virtuais"
   ]
  },
  {
   "cell_type": "markdown",
   "id": "bc0134c5",
   "metadata": {},
   "source": [
    "## 1. Ambientes virtuais "
   ]
  },
  {
   "cell_type": "markdown",
   "id": "d3ecdfab",
   "metadata": {},
   "source": [
    "Como o nome já diz *virtualenv* (ambiente virtual) é um espaço criado virtualmente, isolado e limpo (sem pacotes, linguagens, bibliotecas, frameworks).Desta forma, você pode configurá-lo da melhor maneira para atender suas necessidades, instalando uma versão específica de uma liguagem, pacote, biblioteca, framework, entre outros.\n",
    "\n",
    "Trabalhando com ambientes virtuais você nunca dará de cara com aqueles problemas de conflitos entre pacotes ou bibliotecas. Esta é uma ótima prática para quem trabalha com desenvolvimento, ciência de dados e outras infinitas áreas de trabalho.\n",
    "\n",
    "Existem diferentes formas de se trabalhar com ambientes virtuais. Em python podemos utilizar diretamente a biblioteca *virtualenv*, ou utilizar comandos do ambiente de desenvolvimento anaconda ou até mesmo interações gráficas do anaconda-navigator.  "
   ]
  },
  {
   "cell_type": "markdown",
   "id": "99ff61fb",
   "metadata": {},
   "source": [
    "## 2. Biblioteca virtualenv"
   ]
  },
  {
   "cell_type": "markdown",
   "id": "571510de",
   "metadata": {},
   "source": [
    "Para criar um abiente virtual utilizando a biblioteca *virtualenv*, considerando que você já possui a linguagem python instalada e a biblioteca pip, utilize o seguinte comando para instalar a biblioteca:\n",
    "\n",
    "```console\n",
    "mypc:~$ pip install virtualenv\n",
    "```\n",
    "\n",
    "Considerando a instalação como sucesso, agora você pode criar seu ambiente virtual <meuambientevirtual, (utilize o nome desejado)>:\n",
    "\n",
    "```console\n",
    "mypc:~$ virtualenv meuambientevirtual\n",
    "```\n",
    "\n",
    "Para ativar seu ambinete virtual utilize os seguintes comandos:\n",
    "\n",
    "```console\n",
    "mypc:~$ ./meuambientevirtual/bin/activate\n",
    "\n",
    "```\n",
    "\n",
    "Depois de criado o ambiente virtual é só executar o python a partir da linha de comando.\n"
   ]
  },
  {
   "cell_type": "markdown",
   "id": "6f23868d",
   "metadata": {},
   "source": [
    "## 2. Anaconda linha de comando "
   ]
  },
  {
   "cell_type": "markdown",
   "id": "7cdea825",
   "metadata": {},
   "source": [
    "Utilizando o anaconda por meio da linha de comando crie um abiente virtual conforme:\n",
    "\n",
    "```console\n",
    "mypc:$ conda create -n novoenv python=3.6\n",
    "```\n",
    "\n",
    "Desta forma criamos um ambiente virtual de nome ```novoenv``` com a linguagem ```python``` na sua versão ```3.6```. \n",
    "\n",
    "Para inicializar o ambiente utilize:\n",
    "\n",
    "```console\n",
    "mypc:$ conda activate novoenv\n",
    "```\n",
    "Desta forma, você tem um ambiente incial confgurado com a linguagem python e com alguns pacotes básicos. Toda biblioteca nova que você instalar fica restrita a este ambiente. \n",
    "\n",
    "Para desativar o ambiente virtual utilize o comando:\n",
    "\n",
    "```console\n",
    "mypc: conda deactivate\n",
    "```\n",
    "\n",
    "OBS: Lembrando que desta forma você possui um ambiente virtual utilizando o python via linha de comando. Para utilitizar este ambiente virtual no ```VScode```, basta na hora de selecionar o interpretador python escolher o ambiente virtual criado.\n",
    "\n",
    "### 2.1 Excluindo um ambiente virtual\n",
    "\n",
    "```console\n",
    "conda env remove --name (-n) <ENV_NAME>\n",
    "```"
   ]
  },
  {
   "cell_type": "markdown",
   "id": "8f71d51d",
   "metadata": {},
   "source": [
    "## 3. Configurando o Jupyter Notebook"
   ]
  },
  {
   "cell_type": "markdown",
   "id": "4da0592a",
   "metadata": {},
   "source": [
    "Para utilizar o jupyter notebook no ambiente virtual é preciso instalá-lo e realiazar algumas configurações.\n",
    "\n",
    "Primeiro instale o kernel jupyter no seu ambiente: \n",
    "OBS: Ative seu ambiente.\n",
    "\n",
    "```console\n",
    "mypc:$ pip install --user ipykernel\n",
    "```\n",
    "\n",
    "Agora nós precisamos adicionar manualmente o kernel do jupyter notebook em nosso ambiente virtual. \n",
    "\n",
    "```console\n",
    "mypc:$ python -m ipykernel install --user --name=novoenv\n",
    "```\n",
    "Este comando retorna o seguinte codigo:\n",
    "\n",
    "```console\n",
    "\n",
    "Installed kernelspec myenv in /home/user/.local/share/jupyter/kernels/novoenv\n",
    "\n",
    "```\n",
    "\n",
    "Entre na pasta novoenv e verifique se está tudo correto no arquivo kernel.json.\n",
    "\n",
    "```console\n",
    "\n",
    "{\n",
    " \"argv\": [\n",
    "  \"/home/user/anaconda3/envs/novoenv/bin/python\",\n",
    "  \"-m\",\n",
    "  \"ipykernel_launcher\",\n",
    "  \"-f\",\n",
    "  \"{connection_file}\"\n",
    " ],\n",
    " \"display_name\": \"novoenv\",\n",
    " \"language\": \"python\"\n",
    "}\n",
    "\n",
    "\n",
    "```\n",
    "\n",
    "Abra o jupyter notebook, no botão new  escolha o ambiente virtual criado.\n",
    "\n"
   ]
  },
  {
   "cell_type": "markdown",
   "id": "749c6b96",
   "metadata": {},
   "source": [
    "### 3.1 Removendo o ambiente virtual do Jupyter Notebook  "
   ]
  },
  {
   "cell_type": "markdown",
   "id": "5c956c79",
   "metadata": {},
   "source": [
    "Utilize o seguinte comando para remover o ambiente virtual do seu notebook:\n",
    "    \n",
    "\n",
    "```console\n",
    "\n",
    "mypc:$ jupyter kernelspec list\n",
    "\n",
    "Available kernels:\n",
    "  novoenv      /home/wesley/.local/share/jupyter/kernels/novoenv\n",
    "  python2    /home/wesley/.local/share/jupyter/kernels/python2\n",
    "  python3    /home/wesley/.local/share/jupyter/kernels/python3\n",
    "}\n",
    "\n",
    "```\n",
    "\n",
    "Em seguida remova o ambiente desejado.\n",
    "\n",
    "```console\n",
    "\n",
    "mypc:$ jupyter kernelspec uninstall novoenv\n",
    "}\n",
    "\n",
    "```\n"
   ]
  }
 ],
 "metadata": {
  "kernelspec": {
   "display_name": "Python 3 (ipykernel)",
   "language": "python",
   "name": "python3"
  },
  "language_info": {
   "codemirror_mode": {
    "name": "ipython",
    "version": 3
   },
   "file_extension": ".py",
   "mimetype": "text/x-python",
   "name": "python",
   "nbconvert_exporter": "python",
   "pygments_lexer": "ipython3",
   "version": "3.9.7"
  }
 },
 "nbformat": 4,
 "nbformat_minor": 5
}
