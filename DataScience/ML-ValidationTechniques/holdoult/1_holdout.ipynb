{
 "cells": [
  {
   "cell_type": "code",
   "execution_count": 1,
   "metadata": {},
   "outputs": [],
   "source": [
    "import pandas as pd\n",
    "import numpy as np"
   ]
  },
  {
   "cell_type": "code",
   "execution_count": 2,
   "metadata": {},
   "outputs": [],
   "source": [
    "data = pd.read_feather(\"train.f\")"
   ]
  },
  {
   "cell_type": "markdown",
   "metadata": {},
   "source": [
    "# Holdout 50/50"
   ]
  },
  {
   "cell_type": "code",
   "execution_count": 8,
   "metadata": {},
   "outputs": [],
   "source": [
    "train = data[data['era'] <= 60]\n",
    "val = data[data['era'] > 60]\n",
    "\n",
    "\n",
    "X_train = train.filter(regex=r'feature')\n",
    "X_val = val.filter(regex=r'feature')\n",
    "\n",
    "y_train = train['target_kazutsugi']\n",
    "y_val = val['target_kazutsugi']"
   ]
  },
  {
   "cell_type": "code",
   "execution_count": 10,
   "metadata": {},
   "outputs": [
    {
     "name": "stdout",
     "output_type": "stream",
     "text": [
      "CPU times: user 2min 47s, sys: 2.92 s, total: 2min 50s\n",
      "Wall time: 17 s\n"
     ]
    },
    {
     "data": {
      "text/plain": [
       "LGBMRegressor(colsample_bytree=0.1, learning_rate=0.01, max_depth=5,\n",
       "              n_estimators=2000, num_leaves=32, random_state=0)"
      ]
     },
     "execution_count": 10,
     "metadata": {},
     "output_type": "execute_result"
    }
   ],
   "source": [
    "%%time\n",
    "from lightgbm import LGBMRegressor\n",
    "\n",
    "mdl = LGBMRegressor(max_depth=5, num_leaves=2**5, learning_rate=0.01, n_estimators=2000, colsample_bytree=0.1, random_state=0)\n",
    "mdl.fit(X_train, y_train)"
   ]
  },
  {
   "cell_type": "code",
   "execution_count": 19,
   "metadata": {},
   "outputs": [
    {
     "name": "stdout",
     "output_type": "stream",
     "text": [
      "0.045836009670791794\n"
     ]
    }
   ],
   "source": [
    "predictions = pd.Series(mdl.predict(X_val))\n",
    "ranked_predictions = predictions.rank(pct=True, method=\"first\")\n",
    "correlation = np.corrcoef(y_val, ranked_predictions)[0, 1]\n",
    "print(correlation)"
   ]
  },
  {
   "cell_type": "code",
   "execution_count": 20,
   "metadata": {},
   "outputs": [
    {
     "name": "stdout",
     "output_type": "stream",
     "text": [
      "0.028849881934139326\n"
     ]
    }
   ],
   "source": [
    "test = pd.read_feather(\"test.f\")\n",
    "\n",
    "X_test = test.filter(regex=r'feature')\n",
    "y_test = test['target_kazutsugi']\n",
    "\n",
    "predictions = pd.Series(mdl.predict(X_test))\n",
    "ranked_predictions = predictions.rank(pct=True, method=\"first\")\n",
    "correlation = np.corrcoef(y_test, ranked_predictions)[0, 1]\n",
    "print(correlation)"
   ]
  },
  {
   "cell_type": "markdown",
   "metadata": {},
   "source": [
    "# Holdout 70/30"
   ]
  },
  {
   "cell_type": "code",
   "execution_count": 21,
   "metadata": {},
   "outputs": [],
   "source": [
    "train = data[data['era'] <= 84]\n",
    "val = data[data['era'] > 84]\n",
    "\n",
    "\n",
    "X_train = train.filter(regex=r'feature')\n",
    "X_val = val.filter(regex=r'feature')\n",
    "\n",
    "y_train = train['target_kazutsugi']\n",
    "y_val = val['target_kazutsugi']"
   ]
  },
  {
   "cell_type": "code",
   "execution_count": 22,
   "metadata": {},
   "outputs": [
    {
     "name": "stdout",
     "output_type": "stream",
     "text": [
      "CPU times: user 4min 25s, sys: 6.29 s, total: 4min 31s\n",
      "Wall time: 28.2 s\n"
     ]
    },
    {
     "data": {
      "text/plain": [
       "LGBMRegressor(colsample_bytree=0.1, learning_rate=0.01, max_depth=5,\n",
       "              n_estimators=2000, num_leaves=32, random_state=0)"
      ]
     },
     "execution_count": 22,
     "metadata": {},
     "output_type": "execute_result"
    }
   ],
   "source": [
    "%%time\n",
    "from lightgbm import LGBMRegressor\n",
    "\n",
    "mdl = LGBMRegressor(max_depth=5, num_leaves=2**5, learning_rate=0.01, n_estimators=2000, colsample_bytree=0.1, random_state=0)\n",
    "mdl.fit(X_train, y_train)"
   ]
  },
  {
   "cell_type": "code",
   "execution_count": 23,
   "metadata": {},
   "outputs": [
    {
     "name": "stdout",
     "output_type": "stream",
     "text": [
      "0.046739107571115886\n"
     ]
    }
   ],
   "source": [
    "predictions = pd.Series(mdl.predict(X_val))\n",
    "ranked_predictions = predictions.rank(pct=True, method=\"first\")\n",
    "correlation = np.corrcoef(y_val, ranked_predictions)[0, 1]\n",
    "print(correlation)"
   ]
  },
  {
   "cell_type": "code",
   "execution_count": 24,
   "metadata": {},
   "outputs": [
    {
     "name": "stdout",
     "output_type": "stream",
     "text": [
      "0.028950677997772182\n"
     ]
    }
   ],
   "source": [
    "test = pd.read_feather(\"test.f\")\n",
    "\n",
    "X_test = test.filter(regex=r'feature')\n",
    "y_test = test['target_kazutsugi']\n",
    "\n",
    "predictions = pd.Series(mdl.predict(X_test))\n",
    "ranked_predictions = predictions.rank(pct=True, method=\"first\")\n",
    "correlation = np.corrcoef(y_test, ranked_predictions)[0, 1]\n",
    "print(correlation)"
   ]
  },
  {
   "cell_type": "markdown",
   "metadata": {},
   "source": [
    "# Retrain test score"
   ]
  },
  {
   "cell_type": "code",
   "execution_count": 25,
   "metadata": {},
   "outputs": [],
   "source": [
    "X_train = data.filter(regex=r'feature')\n",
    "y_train = data['target_kazutsugi']"
   ]
  },
  {
   "cell_type": "code",
   "execution_count": 26,
   "metadata": {},
   "outputs": [
    {
     "name": "stdout",
     "output_type": "stream",
     "text": [
      "CPU times: user 6min 31s, sys: 7.26 s, total: 6min 38s\n",
      "Wall time: 39.7 s\n"
     ]
    },
    {
     "data": {
      "text/plain": [
       "LGBMRegressor(colsample_bytree=0.1, learning_rate=0.01, max_depth=5,\n",
       "              n_estimators=2000, num_leaves=32, random_state=0)"
      ]
     },
     "execution_count": 26,
     "metadata": {},
     "output_type": "execute_result"
    }
   ],
   "source": [
    "%%time\n",
    "from lightgbm import LGBMRegressor\n",
    "\n",
    "mdl = LGBMRegressor(max_depth=5, num_leaves=2**5, learning_rate=0.01, n_estimators=2000, colsample_bytree=0.1, random_state=0)\n",
    "mdl.fit(X_train, y_train)"
   ]
  },
  {
   "cell_type": "code",
   "execution_count": 27,
   "metadata": {},
   "outputs": [
    {
     "name": "stdout",
     "output_type": "stream",
     "text": [
      "0.028795687192174634\n"
     ]
    }
   ],
   "source": [
    "test = pd.read_feather(\"test.f\")\n",
    "\n",
    "X_test = test.filter(regex=r'feature')\n",
    "y_test = test['target_kazutsugi']\n",
    "\n",
    "predictions = pd.Series(mdl.predict(X_test))\n",
    "ranked_predictions = predictions.rank(pct=True, method=\"first\")\n",
    "correlation = np.corrcoef(y_test, ranked_predictions)[0, 1]\n",
    "print(correlation)"
   ]
  },
  {
   "cell_type": "code",
   "execution_count": null,
   "metadata": {},
   "outputs": [],
   "source": []
  }
 ],
 "metadata": {
  "kernelspec": {
   "display_name": "Python 3",
   "language": "python",
   "name": "python3"
  },
  "language_info": {
   "codemirror_mode": {
    "name": "ipython",
    "version": 3
   },
   "file_extension": ".py",
   "mimetype": "text/x-python",
   "name": "python",
   "nbconvert_exporter": "python",
   "pygments_lexer": "ipython3",
   "version": "3.7.6"
  }
 },
 "nbformat": 4,
 "nbformat_minor": 4
}
